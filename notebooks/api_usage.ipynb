{
 "cells": [
  {
   "cell_type": "markdown",
   "metadata": {},
   "source": [
    "# Testing our API locally"
   ]
  },
  {
   "cell_type": "markdown",
   "metadata": {},
   "source": [
    "## Connect to the root endpoint"
   ]
  },
  {
   "cell_type": "code",
   "execution_count": 5,
   "metadata": {},
   "outputs": [
    {
     "data": {
      "text/plain": [
       "{'greeting': 'hello batch 852!'}"
      ]
     },
     "execution_count": 5,
     "metadata": {},
     "output_type": "execute_result"
    }
   ],
   "source": [
    "import requests\n",
    "\n",
    "url = \"http://localhost:8000/\"\n",
    "\n",
    "response = requests.get(url)\n",
    "\n",
    "# if response.status_code == 200:\n",
    "#     print(\"API call success\")\n",
    "# else:\n",
    "#     print(\"API call error\")\n",
    "\n",
    "# response.status_code, response.json().get(\"fare\", \"no prediction\"), \n",
    "\n",
    "response.json()\n"
   ]
  },
  {
   "cell_type": "markdown",
   "metadata": {},
   "source": [
    "## Connect to the predict endpoint"
   ]
  },
  {
   "cell_type": "code",
   "execution_count": 11,
   "metadata": {},
   "outputs": [
    {
     "data": {
      "text/plain": [
       "{'fare': 7.151148773448774}"
      ]
     },
     "execution_count": 11,
     "metadata": {},
     "output_type": "execute_result"
    }
   ],
   "source": [
    "import requests\n",
    "\n",
    "url = \"http://localhost:8000/predict\"\n",
    "\n",
    "params = dict(pickup_datetime=\"2020-12-12 12:12:12\",\n",
    "              lon1=\"41.123456\",\n",
    "              lat1=\"41.123456\",\n",
    "              lon2=\"41.123456\",\n",
    "              lat2=\"41.123456\",\n",
    "              passcount=\"3\")\n",
    "\n",
    "response = requests.get(url, params=params)\n",
    "\n",
    "# if response.status_code == 200:\n",
    "#     print(\"API call success\")\n",
    "# else:\n",
    "#     print(\"API call error\")\n",
    "\n",
    "# response.status_code, response.json().get(\"fare\", \"no prediction\"), \n",
    "\n",
    "\n",
    "response.json()\n"
   ]
  },
  {
   "cell_type": "markdown",
   "metadata": {},
   "source": [
    "## Test our API in our container running locally"
   ]
  },
  {
   "cell_type": "code",
   "execution_count": null,
   "metadata": {},
   "outputs": [
    {
     "name": "stdout",
     "output_type": "stream",
     "text": [
      "API call success\n"
     ]
    },
    {
     "data": {
      "text/plain": [
       "(200, 11.612805218531467, {'fare': 11.612805218531467})"
      ]
     },
     "execution_count": null,
     "metadata": {},
     "output_type": "execute_result"
    }
   ],
   "source": [
    "import requests\n",
    "\n",
    "# see how nothing changes when contacting an API, whether it is within a container or not?\n",
    "url = \"http://localhost:8000/predict\"\n",
    "\n",
    "params = dict(pickup_datetime=\"2020-12-12 12:12:12\",\n",
    "              lon1=\"41.123456\",\n",
    "              lat1=\"41.123456\",\n",
    "              lon2=\"41.123456\",\n",
    "              lat2=\"41.123456\",\n",
    "              passcount=\"3\")\n",
    "\n",
    "\n",
    "response = requests.get(url, params=params)\n",
    "\n",
    "if response.status_code == 200:\n",
    "    print(\"API call success\")\n",
    "else:\n",
    "    print(\"API call error\")\n",
    "\n",
    "response.status_code, response.json().get(\"fare\", \"no prediction\"), response.json()\n"
   ]
  },
  {
   "cell_type": "markdown",
   "metadata": {},
   "source": [
    "# Testing our API in Cloud Run"
   ]
  },
  {
   "cell_type": "code",
   "execution_count": 13,
   "metadata": {},
   "outputs": [
    {
     "data": {
      "text/plain": [
       "{'fare': 7.151148773448774}"
      ]
     },
     "execution_count": 13,
     "metadata": {},
     "output_type": "execute_result"
    }
   ],
   "source": [
    "import requests\n",
    "\n",
    "# the only thing that changes is the URL allowing to contact the API 👌\n",
    "url = \"https://taxifare-api852-rwkn37xpsq-de.a.run.app/predict\"\n",
    "\n",
    "params = dict(pickup_datetime=\"2020-12-12 12:12:12 UTC\",\n",
    "              lon1=\"41.123456\",\n",
    "              lat1=\"41.123456\",\n",
    "              lon2=\"41.123456\",\n",
    "              lat2=\"41.123456\",\n",
    "              passcount=\"3\")\n",
    "\n",
    "\n",
    "response = requests.get(url, params=params)\n",
    "\n",
    "# if response.status_code == 200:\n",
    "#     print(\"API call success\")\n",
    "# else:\n",
    "#     print(\"API call error\")\n",
    "\n",
    "# response.status_code, response.json().get(\"fare\", \"no prediction\"), \n",
    "\n",
    "response.json()\n"
   ]
  },
  {
   "cell_type": "code",
   "execution_count": null,
   "metadata": {},
   "outputs": [],
   "source": []
  }
 ],
 "metadata": {
  "challengify": {
   "keep_output": true
  },
  "kernelspec": {
   "display_name": "Python 3 (ipykernel)",
   "language": "python",
   "name": "python3"
  },
  "language_info": {
   "codemirror_mode": {
    "name": "ipython",
    "version": 3
   },
   "file_extension": ".py",
   "mimetype": "text/x-python",
   "name": "python",
   "nbconvert_exporter": "python",
   "pygments_lexer": "ipython3",
   "version": "3.8.6"
  }
 },
 "nbformat": 4,
 "nbformat_minor": 4
}
